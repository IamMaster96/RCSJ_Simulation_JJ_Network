{
 "cells": [
  {
   "cell_type": "code",
   "execution_count": 22,
   "id": "314b0ac3",
   "metadata": {},
   "outputs": [],
   "source": [
    "import numpy as np\n",
    "from numpy.linalg import inv as inv\n",
    "from matplotlib import pyplot as plt"
   ]
  },
  {
   "cell_type": "code",
   "execution_count": 23,
   "id": "e2550e10",
   "metadata": {},
   "outputs": [],
   "source": [
    "ipoints=100\n",
    "\n",
    "C1=5e-15\n",
    "\n",
    "R1=500\n",
    "\n",
    "\n",
    "Ic1=180e-9\n",
    "\n",
    "hbar=6.62e-34\n",
    "e=1.6e-19"
   ]
  },
  {
   "cell_type": "code",
   "execution_count": 24,
   "id": "25e56562",
   "metadata": {},
   "outputs": [],
   "source": [
    "G1=1/R1\n",
    "\n",
    "Gmat=G1\n",
    "Cmat=1/C1\n",
    "ehbar=2.0*e/hbar"
   ]
  },
  {
   "cell_type": "code",
   "execution_count": 25,
   "id": "5ebbb2d7",
   "metadata": {},
   "outputs": [],
   "source": [
    "def psi_dot(psi_in,phi_in):\n",
    "    return ehbar*Cmat*Iin-Cmat*Gmat*psi_in-ehbar*Cmat*Ic1*np.sin(phi_in)"
   ]
  },
  {
   "cell_type": "code",
   "execution_count": 79,
   "id": "fb964377",
   "metadata": {},
   "outputs": [],
   "source": [
    "dt=1e-12\n",
    "nsteps=2000\n",
    "avsteps=1000"
   ]
  },
  {
   "cell_type": "code",
   "execution_count": 80,
   "id": "7db735cd",
   "metadata": {},
   "outputs": [],
   "source": [
    "def eval_psi(psi_in,phi_in):\n",
    "    psi=psi_in+psi_dot(psi_in,phi_in)*dt\n",
    "    phi=phi_in+psi*dt\n",
    "    return psi,phi"
   ]
  },
  {
   "cell_type": "code",
   "execution_count": 81,
   "id": "fbad9f7e",
   "metadata": {},
   "outputs": [],
   "source": [
    "iiIn=np.linspace(-1e-6,1e-6,ipoints)"
   ]
  },
  {
   "cell_type": "code",
   "execution_count": 82,
   "id": "769c91b2",
   "metadata": {},
   "outputs": [],
   "source": [
    "v1=np.zeros([ipoints])\n",
    "\n",
    "tcount=0\n",
    "phi_int=0.0\n",
    "psi_int=0.0\n",
    "for ii in range(ipoints):\n",
    "\n",
    "   # print(tcount)\n",
    "\n",
    "    Iin=iiIn[ii]\n",
    "\n",
    "    psi_t=0.0\n",
    "\n",
    "    for i in range(nsteps):\n",
    "        psi_int,phi_int=eval_psi(psi_int,phi_int)\n",
    "\n",
    "    for i in range(avsteps):\n",
    "        psi_int,phi_int=eval_psi(psi_int,phi_int)\n",
    "        psi_t+=psi_int\n",
    "    v1[ii]=psi_t/(ehbar*avsteps)\n",
    "    \n",
    "   # tcount=tcount+1"
   ]
  },
  {
   "cell_type": "code",
   "execution_count": 83,
   "id": "bad19d5f",
   "metadata": {},
   "outputs": [
    {
     "data": {
      "text/plain": [
       "[<matplotlib.lines.Line2D at 0x185e6482820>]"
      ]
     },
     "execution_count": 83,
     "metadata": {},
     "output_type": "execute_result"
    },
    {
     "data": {
      "image/png": "[encoded data removed]",
      "text/plain": [
       "<Figure size 432x288 with 1 Axes>"
      ]
     },
     "metadata": {
      "needs_background": "light"
     },
     "output_type": "display_data"
    }
   ],
   "source": [
    "plt.plot(iiIn,v1)"
   ]
  },
  {
   "cell_type": "code",
   "execution_count": null,
   "id": "e0e6b7cb",
   "metadata": {},
   "outputs": [],
   "source": []
  }
 ],
 "metadata": {
  "kernelspec": {
   "display_name": "Python 3",
   "language": "python",
   "name": "python3"
  },
  "language_info": {
   "codemirror_mode": {
    "name": "ipython",
    "version": 3
   },
   "file_extension": ".py",
   "mimetype": "text/x-python",
   "name": "python",
   "nbconvert_exporter": "python",
   "pygments_lexer": "ipython3",
   "version": "3.8.8"
  }
 },
 "nbformat": 4,
 "nbformat_minor": 5
}
