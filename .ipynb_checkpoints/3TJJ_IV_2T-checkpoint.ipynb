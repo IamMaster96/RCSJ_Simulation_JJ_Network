{
 "cells": [
  {
   "cell_type": "code",
   "execution_count": 207,
   "id": "314b0ac3",
   "metadata": {},
   "outputs": [],
   "source": [
    "import numpy as np\n",
    "from numpy.linalg import inv as inv\n",
    "from matplotlib import pyplot as plt"
   ]
  },
  {
   "cell_type": "code",
   "execution_count": 208,
   "id": "e2550e10",
   "metadata": {},
   "outputs": [],
   "source": [
    "ipoints=100\n",
    "\n",
    "C1=5e-15\n",
    "C2=5e-15\n",
    "C12=5e-15\n",
    "\n",
    "R1=500\n",
    "R2=520\n",
    "R12=520\n",
    "\n",
    "Ic1=1800e-9\n",
    "Ic2=1300e-9\n",
    "Ic12=1500-9\n",
    "\n",
    "hbar=6.62e-34\n",
    "e=1.6e-19"
   ]
  },
  {
   "cell_type": "code",
   "execution_count": 209,
   "id": "25e56562",
   "metadata": {},
   "outputs": [],
   "source": [
    "G1=1/R1\n",
    "G2=1/R2\n",
    "G12=1/R12\n",
    "Gmat=np.array([[G1+G12, G12],[G12,G2+G12]])\n",
    "Cmat=inv(np.array([[C1+C12,C12],[C12,C2+C12]]))\n",
    "ehbar=2.0*e/hbar"
   ]
  },
  {
   "cell_type": "code",
   "execution_count": 210,
   "id": "5ebbb2d7",
   "metadata": {},
   "outputs": [],
   "source": [
    "def Isource(phi_in):\n",
    "    return np.array([[Ic1*np.sin(phi_in[0,0])+Ic12*np.sin(phi_in[0,0]-phi_in[1,0])],\\\n",
    "                     [Ic2*np.sin(phi_in[1,0])-Ic12*np.sin(phi_in[0,0]-phi_in[1,0])]])\n",
    "def psi_dot(psi_in,phi_in):\n",
    "    return ehbar*np.matmul(Cmat,Iin)-np.matmul(np.matmul(Cmat,Gmat),psi_in)-ehbar*np.matmul(Cmat,Isource(phi_in))"
   ]
  },
  {
   "cell_type": "code",
   "execution_count": 211,
   "id": "fb964377",
   "metadata": {},
   "outputs": [],
   "source": [
    "dt=1e-15\n",
    "nsteps=20000\n",
    "avsteps=10000"
   ]
  },
  {
   "cell_type": "code",
   "execution_count": 212,
   "id": "7db735cd",
   "metadata": {},
   "outputs": [],
   "source": [
    "def eval_psi(psi_in,phi_in):\n",
    "    psi=psi_in+psi_dot(psi_in,phi_in)*dt\n",
    "    phi=phi_in+psi*dt\n",
    "    return psi,phi"
   ]
  },
  {
   "cell_type": "code",
   "execution_count": 213,
   "id": "fbad9f7e",
   "metadata": {},
   "outputs": [],
   "source": [
    "iiIn=np.linspace(-1e-6,1e-6,ipoints)\n",
    "ijIn=np.linspace(-1e-6,1e-6,ipoints)"
   ]
  },
  {
   "cell_type": "code",
   "execution_count": null,
   "id": "769c91b2",
   "metadata": {},
   "outputs": [
    {
     "name": "stdout",
     "output_type": "stream",
     "text": [
      "0\n",
      "1\n",
      "2\n",
      "3\n",
      "4\n",
      "5\n",
      "6\n",
      "7\n",
      "8\n",
      "9\n",
      "10\n"
     ]
    }
   ],
   "source": [
    "v1=np.zeros([ipoints,ipoints])\n",
    "v2=v1\n",
    "tcount=0\n",
    "phi_int=np.array([[0.0],[0.0]])\n",
    "psi_int=np.array([[0.0],[0.0]])\n",
    "for ii in range(ipoints):\n",
    "    for ij in range(50,51):\n",
    "        print(tcount)\n",
    "        \n",
    "        Iin=np.array([[iiIn[ii]],[0.0]])\n",
    "        \n",
    "        phi_int=np.array([[0.0],[0.0]])\n",
    "        psi_int=np.array([[0.0],[0.0]])\n",
    "        psi_t=np.array([[0.0],[0.0]])\n",
    "        \n",
    "        for i in range(nsteps):\n",
    "            psi_int,phi_int=eval_psi(psi_int,phi_int)\n",
    "\n",
    "        for i in range(avsteps):\n",
    "            psi_int,phi_int=eval_psi(psi_int,phi_int)\n",
    "            psi_t+=psi_int\n",
    "        v1[ii,ij]=psi_t[0,0]/(ehbar*avsteps)\n",
    "        v2[ii,ij]=psi_t[1,0]/(ehbar*avsteps)\n",
    "        tcount=tcount+1"
   ]
  },
  {
   "cell_type": "code",
   "execution_count": null,
   "id": "bad19d5f",
   "metadata": {},
   "outputs": [],
   "source": [
    "plt.plot(v1[:,50])"
   ]
  },
  {
   "cell_type": "code",
   "execution_count": null,
   "id": "b47e02b8",
   "metadata": {},
   "outputs": [],
   "source": []
  },
  {
   "cell_type": "code",
   "execution_count": null,
   "id": "06e24104",
   "metadata": {},
   "outputs": [],
   "source": []
  }
 ],
 "metadata": {
  "kernelspec": {
   "display_name": "Python 3",
   "language": "python",
   "name": "python3"
  },
  "language_info": {
   "codemirror_mode": {
    "name": "ipython",
    "version": 3
   },
   "file_extension": ".py",
   "mimetype": "text/x-python",
   "name": "python",
   "nbconvert_exporter": "python",
   "pygments_lexer": "ipython3",
   "version": "3.8.8"
  }
 },
 "nbformat": 4,
 "nbformat_minor": 5
}
