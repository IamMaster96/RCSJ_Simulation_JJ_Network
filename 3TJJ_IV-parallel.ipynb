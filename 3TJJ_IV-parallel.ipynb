{
 "cells": [
  {
   "cell_type": "code",
   "execution_count": 50,
   "metadata": {},
   "outputs": [],
   "source": [
    "import numpy as np\n",
    "from numpy.linalg import inv as inv\n",
    "from matplotlib import pyplot as plt\n",
    "import torch"
   ]
  },
  {
   "cell_type": "code",
   "execution_count": 51,
   "metadata": {},
   "outputs": [],
   "source": [
    "ipoints=500\n",
    "\n",
    "C1=175e-15\n",
    "C2=175e-15\n",
    "C12=125e-15\n",
    "\n",
    "R1=150\n",
    "R2=150\n",
    "R12=150\n",
    "\n",
    "Ic1=250e-9\n",
    "Ic2=250e-9\n",
    "Ic12=350e-9\n",
    "\n",
    "hbar=6.62e-34\n",
    "e=1.6e-19"
   ]
  },
  {
   "cell_type": "code",
   "execution_count": 52,
   "metadata": {},
   "outputs": [],
   "source": [
    "G1=1/R1\n",
    "G2=1/R2\n",
    "G12=1/R12\n",
    "Gmat=np.array([[G1+G12, -G12],[-G12,G2+G12]])\n",
    "Cmat=inv(np.array([[C1+C12,-C12],[-C12,C2+C12]]))\n",
    "ehbar=2.0*e/hbar"
   ]
  },
  {
   "cell_type": "code",
   "execution_count": 54,
   "metadata": {},
   "outputs": [],
   "source": [
    "iiIn=torch.linspace(-1e-6,1e-6,ipoints)\n",
    "ijIn=torch.linspace(-1e-6,1e-6,ipoints)"
   ]
  },
  {
   "cell_type": "code",
   "execution_count": 55,
   "metadata": {},
   "outputs": [],
   "source": [
    "A=torch.zeros(1,1,4,4,dtype=torch.float64)\n",
    "A[0,0,0:2,2:4]=torch.eye(2)\n",
    "A[0,0,2:4,2:4]=-torch.from_numpy(Cmat*Gmat)\n",
    "\n",
    "B=torch.zeros(1,1,4,4,dtype=torch.float64)\n",
    "B[0,0,2,0]=Ic1\n",
    "B[0,0,3,1]=Ic2\n",
    "\n",
    "Iin=torch.zeros(ipoints,ipoints,4,1,dtype=torch.float64)\n",
    "for i in range(ipoints):\n",
    "    for j in range(ipoints):\n",
    "        Iin[i,j,2,0]=iiIn[i]\n",
    "        Iin[i,j,3,0]=ijIn[j]\n",
    "\n",
    "C=torch.zeros(1,1,4,4,dtype=torch.float64)\n",
    "C[0,0,2:4,2:4]=torch.from_numpy(Cmat)\n",
    "\n",
    "D2=torch.zeros(1,1,4,4,dtype=torch.float64)\n",
    "D2[0,0,2:4,0:2]=torch.eye(2)\n",
    "D2[0,0,2,1]=-1\n",
    "D2[0,0,3,0]=-1"
   ]
  },
  {
   "cell_type": "code",
   "execution_count": 56,
   "metadata": {},
   "outputs": [],
   "source": [
    "def psi_dot(psi_in):\n",
    "    temp1=-ehbar*(torch.matmul(C,(torch.matmul(B,torch.sin(psi_in))+Ic12*torch.sin(torch.matmul(D2,psi_in))-Iin)))\n",
    "    return torch.matmul(A,psi_in)+temp1"
   ]
  },
  {
   "cell_type": "code",
   "execution_count": 61,
   "metadata": {},
   "outputs": [],
   "source": [
    "dt=1e-11\n",
    "nsteps=200\n",
    "avsteps=4000"
   ]
  },
  {
   "cell_type": "code",
   "execution_count": 62,
   "metadata": {},
   "outputs": [],
   "source": [
    "def eval_psi(psi_in):\n",
    "    return psi_in+psi_dot(psi_in)*dt"
   ]
  },
  {
   "cell_type": "code",
   "execution_count": 63,
   "metadata": {},
   "outputs": [],
   "source": [
    "psi_int=torch.zeros(ipoints,ipoints,4,1,dtype=torch.float64)\n",
    "psi_t=torch.zeros(ipoints,ipoints,4,1,dtype=torch.float32)\n",
    "\n",
    "for i in range(nsteps):\n",
    "    psi_int=eval_psi(psi_int)\n",
    "\n",
    "for i in range(avsteps):\n",
    "    psi_int=eval_psi(psi_int)\n",
    "    psi_t+=psi_int"
   ]
  },
  {
   "cell_type": "code",
   "execution_count": 64,
   "metadata": {},
   "outputs": [],
   "source": [
    "f=open('IV_Char_torch.txt','w')\n",
    "f.close()\n",
    "iiIn=np.linspace(-1e-6,1e-6,ipoints)\n",
    "ijIn=np.linspace(-1e-6,1e-6,ipoints)\n",
    "\n",
    "for i in range(ipoints):\n",
    "    for j in range(ipoints):\n",
    "        v=psi_t[i,j,:].numpy()/(ehbar*avsteps)\n",
    "        v1=v[2][0]\n",
    "        v2=v[3][0]\n",
    "        f=open('IV_Char_torch.txt','a')\n",
    "        f.write(\"{} {} {} {}\\n\" .format(iiIn[i],ijIn[j], v1,  v2))\n",
    "        f.close()"
   ]
  },
  {
   "cell_type": "code",
   "execution_count": null,
   "metadata": {},
   "outputs": [],
   "source": []
  }
 ],
 "metadata": {
  "kernelspec": {
   "display_name": "Python 3",
   "language": "python",
   "name": "python3"
  },
  "language_info": {
   "codemirror_mode": {
    "name": "ipython",
    "version": 3
   },
   "file_extension": ".py",
   "mimetype": "text/x-python",
   "name": "python",
   "nbconvert_exporter": "python",
   "pygments_lexer": "ipython3",
   "version": "3.8.5"
  }
 },
 "nbformat": 4,
 "nbformat_minor": 5
}
